{
  "nbformat": 4,
  "nbformat_minor": 0,
  "metadata": {
    "colab": {
      "name": "oneHot.ipynb",
      "provenance": [],
      "authorship_tag": "ABX9TyMVv4UdC0p6xD8ZE2zoN81C",
      "include_colab_link": true
    },
    "kernelspec": {
      "name": "python3",
      "display_name": "Python 3"
    },
    "language_info": {
      "name": "python"
    }
  },
  "cells": [
    {
      "cell_type": "markdown",
      "metadata": {
        "id": "view-in-github",
        "colab_type": "text"
      },
      "source": [
        "<a href=\"https://colab.research.google.com/github/mahendrasaikumargandham/machine-learning-algorithms/blob/main/oneHot.ipynb\" target=\"_parent\"><img src=\"https://colab.research.google.com/assets/colab-badge.svg\" alt=\"Open In Colab\"/></a>"
      ]
    },
    {
      "cell_type": "code",
      "execution_count": 2,
      "metadata": {
        "id": "BatTlLORnZ4t"
      },
      "outputs": [],
      "source": [
        "import numpy as np\n",
        "\n",
        "samples = {\n",
        "    'Jupiter has 79 known moons .', \n",
        "    'Neptune has 14 confirmed moons !'\n",
        "}\n",
        "token_index = {}\n",
        "counter = 0\n",
        "\n",
        "for sample in samples:\n",
        "  for considered_word in sample.split():\n",
        "    if considered_word not in token_index:\n",
        "      token_index.update({considered_word: counter + 1})\n",
        "      counter += 1\n"
      ]
    },
    {
      "cell_type": "code",
      "source": [
        "token_index"
      ],
      "metadata": {
        "colab": {
          "base_uri": "https://localhost:8080/"
        },
        "id": "p5prW8BrpE4Z",
        "outputId": "f6496219-7c75-4870-d840-61e648e2e25e"
      },
      "execution_count": 3,
      "outputs": [
        {
          "output_type": "execute_result",
          "data": {
            "text/plain": [
              "{'!': 10,\n",
              " '.': 6,\n",
              " '14': 8,\n",
              " '79': 3,\n",
              " 'Jupiter': 1,\n",
              " 'Neptune': 7,\n",
              " 'confirmed': 9,\n",
              " 'has': 2,\n",
              " 'known': 4,\n",
              " 'moons': 5}"
            ]
          },
          "metadata": {},
          "execution_count": 3
        }
      ]
    },
    {
      "cell_type": "code",
      "source": [
        "max_length = 6\n",
        "result = np.zeros(shape = (len(samples), max_length, max(token_index.values()) + 1))\n",
        "for i, sample in enumerate(samples):\n",
        "  for j, considered_word in list(enumerate(sample.split())):\n",
        "    index = token_index.get(considered_word)\n",
        "    result[i, j, index] = 1"
      ],
      "metadata": {
        "id": "N6hO8um2pGK8"
      },
      "execution_count": 6,
      "outputs": []
    },
    {
      "cell_type": "code",
      "source": [
        "result"
      ],
      "metadata": {
        "colab": {
          "base_uri": "https://localhost:8080/"
        },
        "id": "xNfQqf8DqLVT",
        "outputId": "77b518c1-365a-4ea4-ac7f-8834f9df0914"
      },
      "execution_count": 7,
      "outputs": [
        {
          "output_type": "execute_result",
          "data": {
            "text/plain": [
              "array([[[0., 1., 0., 0., 0., 0., 0., 0., 0., 0., 0.],\n",
              "        [0., 0., 1., 0., 0., 0., 0., 0., 0., 0., 0.],\n",
              "        [0., 0., 0., 1., 0., 0., 0., 0., 0., 0., 0.],\n",
              "        [0., 0., 0., 0., 1., 0., 0., 0., 0., 0., 0.],\n",
              "        [0., 0., 0., 0., 0., 1., 0., 0., 0., 0., 0.],\n",
              "        [0., 0., 0., 0., 0., 0., 1., 0., 0., 0., 0.]],\n",
              "\n",
              "       [[0., 0., 0., 0., 0., 0., 0., 1., 0., 0., 0.],\n",
              "        [0., 0., 1., 0., 0., 0., 0., 0., 0., 0., 0.],\n",
              "        [0., 0., 0., 0., 0., 0., 0., 0., 1., 0., 0.],\n",
              "        [0., 0., 0., 0., 0., 0., 0., 0., 0., 1., 0.],\n",
              "        [0., 0., 0., 0., 0., 1., 0., 0., 0., 0., 0.],\n",
              "        [0., 0., 0., 0., 0., 0., 0., 0., 0., 0., 1.]]])"
            ]
          },
          "metadata": {},
          "execution_count": 7
        }
      ]
    }
  ]
}